{
 "cells": [
  {
   "cell_type": "markdown",
   "metadata": {},
   "source": [
    "# PROJET BI423 "
   ]
  },
  {
   "cell_type": "code",
   "execution_count": 1,
   "metadata": {},
   "outputs": [],
   "source": [
    "import matplotlib.pyplot as plt\n"
   ]
  },
  {
   "cell_type": "markdown",
   "metadata": {},
   "source": [
    "Vérif séquence d'ADN valide"
   ]
  },
  {
   "cell_type": "code",
   "execution_count": 4,
   "metadata": {},
   "outputs": [
    {
     "name": "stdout",
     "output_type": "stream",
     "text": [
      "La séquence est valide.\n"
     ]
    },
    {
     "data": {
      "text/plain": [
       "'GATTACCTGCGGCAAAACATTGCGCAACAGCATGATCTCGACTCGCTGGCGCAGCGAGTAATGATGAGTCGCCGCACATTAACTCGCCATTTTATGAAAGCGAC'"
      ]
     },
     "execution_count": 4,
     "metadata": {},
     "output_type": "execute_result"
    }
   ],
   "source": [
    "def seq_init():\n",
    "    global seq_plasmide\n",
    "    seq_plasmide = input(\"Entrer une séquence d'ADN valide: \").upper()\n",
    "    for nucléotide in seq_plasmide:\n",
    "        if nucléotide not in 'ATGC':\n",
    "            print(\"Erreur: La séquence contient des caractères non valides.\")\n",
    "            return \n",
    "    print(\"La séquence est valide.\")\n",
    "    return seq_plasmide\n",
    "\n",
    "seq_init()\n"
   ]
  },
  {
   "cell_type": "markdown",
   "metadata": {},
   "source": [
    "caclul ratio"
   ]
  },
  {
   "cell_type": "code",
   "execution_count": 5,
   "metadata": {},
   "outputs": [
    {
     "name": "stdout",
     "output_type": "stream",
     "text": [
      "Point d'inversion trouvé à la position 1\n",
      "Point d'inversion trouvé à la position 7\n",
      "Point d'inversion trouvé à la position 11\n",
      "Point d'inversion trouvé à la position 21\n",
      "Point d'inversion trouvé à la position 33\n",
      "Point d'inversion trouvé à la position 44\n",
      "Point d'inversion trouvé à la position 48\n",
      "Point d'inversion trouvé à la position 52\n",
      "Point d'inversion trouvé à la position 68\n"
     ]
    },
    {
     "ename": "IndexError",
     "evalue": "list index out of range",
     "output_type": "error",
     "traceback": [
      "\u001b[1;31m---------------------------------------------------------------------------\u001b[0m",
      "\u001b[1;31mIndexError\u001b[0m                                Traceback (most recent call last)",
      "Cell \u001b[1;32mIn[5], line 39\u001b[0m\n\u001b[0;32m     35\u001b[0m     plt\u001b[38;5;241m.\u001b[39mlegend()\n\u001b[0;32m     36\u001b[0m     plt\u001b[38;5;241m.\u001b[39mshow()\n\u001b[1;32m---> 39\u001b[0m \u001b[43mtrouver_point_inversion\u001b[49m\u001b[43m(\u001b[49m\u001b[43mseq_plasmide\u001b[49m\u001b[43m,\u001b[49m\u001b[43m \u001b[49m\u001b[43mtaille_fenetre\u001b[49m\u001b[38;5;241;43m=\u001b[39;49m\u001b[38;5;241;43m4\u001b[39;49m\u001b[43m)\u001b[49m\n",
      "Cell \u001b[1;32mIn[5], line 19\u001b[0m, in \u001b[0;36mtrouver_point_inversion\u001b[1;34m(seq_plasmide, taille_fenetre)\u001b[0m\n\u001b[0;32m     15\u001b[0m     ratios\u001b[38;5;241m.\u001b[39mappend(ratio)\n\u001b[0;32m     18\u001b[0m \u001b[38;5;28;01mfor\u001b[39;00m i \u001b[38;5;129;01min\u001b[39;00m \u001b[38;5;28mrange\u001b[39m(\u001b[38;5;241m1\u001b[39m, \u001b[38;5;28mlen\u001b[39m(ratios)):\n\u001b[1;32m---> 19\u001b[0m     \u001b[38;5;28;01mif\u001b[39;00m (ratios[i\u001b[38;5;241m-\u001b[39m\u001b[38;5;241m1\u001b[39m] \u001b[38;5;241m<\u001b[39m \u001b[38;5;241m0\u001b[39m \u001b[38;5;129;01mand\u001b[39;00m ratios[i] \u001b[38;5;241m>\u001b[39m\u001b[38;5;241m=\u001b[39m \u001b[38;5;241m0\u001b[39m \u001b[38;5;129;01mand\u001b[39;00m \u001b[43mratios\u001b[49m\u001b[43m[\u001b[49m\u001b[43mi\u001b[49m\u001b[38;5;241;43m+\u001b[39;49m\u001b[38;5;241;43m1\u001b[39;49m\u001b[43m]\u001b[49m \u001b[38;5;241m>\u001b[39m \u001b[38;5;241m0\u001b[39m) \u001b[38;5;129;01mor\u001b[39;00m (ratios[i\u001b[38;5;241m-\u001b[39m\u001b[38;5;241m1\u001b[39m] \u001b[38;5;241m>\u001b[39m \u001b[38;5;241m0\u001b[39m \u001b[38;5;129;01mand\u001b[39;00m ratios[i] \u001b[38;5;241m<\u001b[39m\u001b[38;5;241m=\u001b[39m \u001b[38;5;241m0\u001b[39m \u001b[38;5;129;01mand\u001b[39;00m ratios[i\u001b[38;5;241m+\u001b[39m\u001b[38;5;241m1\u001b[39m] \u001b[38;5;241m<\u001b[39m \u001b[38;5;241m0\u001b[39m):\n\u001b[0;32m     20\u001b[0m         \u001b[38;5;28mprint\u001b[39m(\u001b[38;5;124mf\u001b[39m\u001b[38;5;124m\"\u001b[39m\u001b[38;5;124mPoint d\u001b[39m\u001b[38;5;124m'\u001b[39m\u001b[38;5;124minversion trouvé à la position \u001b[39m\u001b[38;5;132;01m{\u001b[39;00mi\u001b[38;5;132;01m}\u001b[39;00m\u001b[38;5;124m\"\u001b[39m)\n\u001b[0;32m     21\u001b[0m         points_inversion\u001b[38;5;241m.\u001b[39mappend(i)\n",
      "\u001b[1;31mIndexError\u001b[0m: list index out of range"
     ]
    }
   ],
   "source": [
    "def trouver_point_inversion(seq_plasmide, taille_fenetre=1):\n",
    "    ratios = []\n",
    "    points_inversion = []\n",
    "    positions = range(len(seq_plasmide) - taille_fenetre + 1)\n",
    "    \n",
    "    for i in positions:\n",
    "        fenetre = seq_plasmide[i:i+taille_fenetre]\n",
    "        nbC = fenetre.count('C')\n",
    "        nbG = fenetre.count('G')\n",
    "        total = nbC + nbG\n",
    "        if total > 0:\n",
    "            ratio = (nbC - nbG) / total\n",
    "        else:\n",
    "            ratio = 0\n",
    "        ratios.append(ratio)\n",
    "\n",
    "\n",
    "    for i in range(1, len(ratios)):\n",
    "        if (ratios[i-1] < 0 and ratios[i] >= 0 and ratios[i+1] > 0) or (ratios[i-1] > 0 and ratios[i] <= 0 and ratios[i+1] < 0):\n",
    "            print(f\"Point d'inversion trouvé à la position {i}\")\n",
    "            points_inversion.append(i)\n",
    "    \n",
    "\n",
    "    plt.figure(figsize=(10, 6))\n",
    "    plt.plot(positions, ratios, label='Ratio (nbC-nbG)/(nbC+nbG) par fenêtre')\n",
    "    plt.axhline(0, color='red', linestyle='--')\n",
    "\n",
    "\n",
    "    for point in points_inversion:\n",
    "        plt.scatter(point, 0, s=100, color='yellow', edgecolors='black', zorder=10)\n",
    "\n",
    "    plt.xlabel('Position')\n",
    "    plt.ylabel('Ratio (nbC-nbG)/(nbC+nbG)')\n",
    "    plt.title('Recherche de point d\\'inversion dans la séquence d\\'ADN')\n",
    "    plt.legend()\n",
    "    plt.show()\n",
    "\n",
    "\n",
    "trouver_point_inversion(seq_plasmide, taille_fenetre=4)\n"
   ]
  },
  {
   "cell_type": "markdown",
   "metadata": {},
   "source": [
    "calcul pourcentage GC "
   ]
  }
 ],
 "metadata": {
  "kernelspec": {
   "display_name": "Python 3",
   "language": "python",
   "name": "python3"
  },
  "language_info": {
   "codemirror_mode": {
    "name": "ipython",
    "version": 3
   },
   "file_extension": ".py",
   "mimetype": "text/x-python",
   "name": "python",
   "nbconvert_exporter": "python",
   "pygments_lexer": "ipython3",
   "version": "3.10.6"
  }
 },
 "nbformat": 4,
 "nbformat_minor": 2
}
